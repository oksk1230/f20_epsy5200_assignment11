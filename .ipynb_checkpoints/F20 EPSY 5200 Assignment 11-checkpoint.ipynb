{
 "cells": [
  {
   "cell_type": "markdown",
   "metadata": {},
   "source": [
    "# EPSY 5200: Programming for Social Science Researchers\n",
    "## Assignment 11\n",
    "### Due Tuesday, December 1 by 2:30pm"
   ]
  },
  {
   "cell_type": "markdown",
   "metadata": {},
   "source": [
    "#### Problem 0\n",
    "\n",
    "If you've made it to this document, you likely already did Problem 0 from the readme.  But just in case, here it is again!\n",
    "\n",
    "a) Let's watch some videos! I recommend all the videos in this series (for future learning), but we will just focus on two now. Watch the first half of this video (https://www.youtube.com/watch?v=_NrSWLQsDL4&list=PLRqwX-V7Uu6ZF9C0YMKuns9sLDzK6zoiV&index=3) -- just the part about forking, you can ignore pull requests!  Then watch this video:\n",
    "https://www.youtube.com/watch?v=yXT1ElMEkW8&list=PLRqwX-V7Uu6ZF9C0YMKuns9sLDzK6zoiV&index=6 (you don't have to do the terminal git commands, you can use the clone strategy we used in class)\n",
    "\n",
    "b) Using what you learned in 0a, **fork** my GitHub repository (remote repo) to your own account, then **clone** to your hard drive (local repo) using GitKraken (or use the command-line if you want the extra challenge).  After finishing EACH problem below, make sure to STAGE and COMMIT with a comment (e.g., \"Just finished Part 1! Git is fun!\" or whatever).  Then PUSH back to GitHub."
   ]
  },
  {
   "cell_type": "markdown",
   "metadata": {},
   "source": [
    "###### Note on privacy!\n",
    "\n",
    "By default, GitHub repos are public (promoting open source sharing of code), but of course you are more than welcome to make your code for this assignment private, as is your right!  Unfortunately, it's a little bit complicated because GitKraken recently made a change that the free version of their software doesn't allow for private repo access, and you need the paid version.  So here are 3 ways to do this privately:\n",
    "\n",
    "1) GitKraken partners with GitHub to provide a free pack of resources (including the pro version of GitKraken) for *students*.  That's you!  So you can sign up here *only if you want to do this*: https://education.github.com/pack?utm_source=github+gitkraken\n",
    "\n",
    "2) Just keep your GitHub repo public while you're working on this project.  Use free GitKraken.  Then switch the GitHub repo to Private only when you're done using GitKraken to push to GitHub.\n",
    "\n",
    "3) Keep the repo private and use the terminal git commands in the YouTube video for Problem 0a.\n",
    "\n",
    "To make the repo private:\n",
    "On your GitHub repo, go to Settings > Manage Access > Manage (under Public Repository) > Change Visibility.  Then add me (jkbye) as a 'collaborator' so I can see it: Settings > Manage Access > Invite a Collaborator (green button) > add 'jkbye'."
   ]
  },
  {
   "cell_type": "markdown",
   "metadata": {},
   "source": [
    "#### Problem 1\n",
    "\n",
    "Now let's get to Jupyter!\n",
    "\n",
    "a) Import any helpful libraries in this Jupyter Notebook.\n",
    "\n",
    "b) Load the *MA_Public_Schools_2017.csv* file as a pandas data frame.  Note: these data are from Kaggle: https://www.kaggle.com/ndalziel/massachusetts-public-schools-data and I have already removed a lot of columns.\n",
    "\n",
    "c) Adapt the example code in the chunk below to replace all spaces in column names with underscores. This is good practice in order to not cause problems with functions that don't allow spaces in variable names (e.g., **smf.ols**).\n",
    "\n",
    "d) Adapt the code from 1c to replace \"%\" sign with \"Perc\", because it is also good practice not to start column names with symbols.\n",
    "\n",
    "e) Find the descriptives for numeric columns.\n",
    "\n",
    "f) Commit your changes and push to GitHub!"
   ]
  },
  {
   "cell_type": "code",
   "execution_count": 1,
   "metadata": {},
   "outputs": [],
   "source": [
    "#Problem 1_a\n",
    "import numpy.random as npr\n",
    "import numpy as np\n",
    "import pandas as pd\n",
    "import seaborn as sns\n",
    "import matplotlib.pyplot as plt\n",
    "import scipy.stats as stats\n",
    "import statsmodels.formula.api as smf"
   ]
  },
  {
   "cell_type": "code",
   "execution_count": 2,
   "metadata": {
    "scrolled": true
   },
   "outputs": [
    {
     "data": {
      "text/plain": [
       "<bound method NDFrame.head of       School Code                                        School Name  \\\n",
       "0           10505                                      Abington High   \n",
       "1           10003                     Beaver Brook Elementary School   \n",
       "2           10002                           Center Elementary School   \n",
       "3           10405                               Frolio Middle School   \n",
       "4           10015                        Woodsdale Elementary School   \n",
       "...           ...                                                ...   \n",
       "1856     35060505     Pioneer Charter School of Science II (PCSS-II)   \n",
       "1857     35100205             Springfield Preparatory Charter School   \n",
       "1858     39020900  TEC Connections Academy Commonwealth Virtual S...   \n",
       "1859     35050405            UP Academy Charter School of Dorchester   \n",
       "1860     35120305           UP Academy Charter School of Springfield   \n",
       "\n",
       "         School Type          Town State  \\\n",
       "0      Public School      Abington    MA   \n",
       "1      Public School      Abington    MA   \n",
       "2      Public School      Abington    MA   \n",
       "3      Public School      Abington    MA   \n",
       "4      Public School      Abington    MA   \n",
       "...              ...           ...   ...   \n",
       "1856  Charter School        Saugus    MA   \n",
       "1857  Charter School   Springfield    MA   \n",
       "1858   Public School  East Walpole    MA   \n",
       "1859  Charter School        Boston    MA   \n",
       "1860  Charter School        Boston    MA   \n",
       "\n",
       "                                      Grade  \\\n",
       "0                               09,10,11,12   \n",
       "1                               01,02,03,04   \n",
       "2                                      PK,K   \n",
       "3                                     07,08   \n",
       "4                                     05,06   \n",
       "...                                     ...   \n",
       "1856                      07,08,09,10,11,12   \n",
       "1857                                K,01,02   \n",
       "1858  K,01,02,03,04,05,06,07,08,09,10,11,12   \n",
       "1859           PK,K,01,02,03,04,05,06,07,08   \n",
       "1860                               06,07,08   \n",
       "\n",
       "                                          District Name  District Code  \\\n",
       "0                                              Abington          10000   \n",
       "1                                              Abington          10000   \n",
       "2                                              Abington          10000   \n",
       "3                                              Abington          10000   \n",
       "4                                              Abington          10000   \n",
       "...                                                 ...            ...   \n",
       "1856  Pioneer Charter School of Science II (PCSS-II)...       35060000   \n",
       "1857  Springfield Preparatory Charter School (District)       35100000   \n",
       "1858  TEC Connections Academy Commonwealth Virtual S...       39020000   \n",
       "1859  UP Academy Charter School of Dorchester (Distr...       35050000   \n",
       "1860  UP Academy Charter School of Springfield (Dist...       35120000   \n",
       "\n",
       "      PK_Enrollment  K_Enrollment  ...  Number of Students  Salary Totals  \\\n",
       "0                 0             0  ...               451.0      9489496.0   \n",
       "1                 0             0  ...               643.0      9489496.0   \n",
       "2                69           134  ...               208.0      9489496.0   \n",
       "3                 0             0  ...               342.0      9489496.0   \n",
       "4                 0             0  ...               334.0      9489496.0   \n",
       "...             ...           ...  ...                 ...            ...   \n",
       "1856              0             0  ...               267.0            NaN   \n",
       "1857              0            54  ...               108.0            NaN   \n",
       "1858              0            20  ...              1014.0            NaN   \n",
       "1859             52            65  ...               655.0            NaN   \n",
       "1860              0             0  ...                 NaN            NaN   \n",
       "\n",
       "      Average Salary  FTE Count  In-District Expenditures  \\\n",
       "0            74662.0      127.0               23365711.18   \n",
       "1            74662.0      127.0               23365711.18   \n",
       "2            74662.0      127.0               23365711.18   \n",
       "3            74662.0      127.0               23365711.18   \n",
       "4            74662.0      127.0               23365711.18   \n",
       "...              ...        ...                       ...   \n",
       "1856             NaN        NaN                       NaN   \n",
       "1857             NaN        NaN                       NaN   \n",
       "1858             NaN        NaN                       NaN   \n",
       "1859             NaN        NaN                       NaN   \n",
       "1860             NaN        NaN                       NaN   \n",
       "\n",
       "      Total In-district FTEs  Average In-District Expenditures per Pupil  \\\n",
       "0                     1939.0                                    12050.39   \n",
       "1                     1939.0                                    12050.39   \n",
       "2                     1939.0                                    12050.39   \n",
       "3                     1939.0                                    12050.39   \n",
       "4                     1939.0                                    12050.39   \n",
       "...                      ...                                         ...   \n",
       "1856                     NaN                                         NaN   \n",
       "1857                     NaN                                         NaN   \n",
       "1858                     NaN                                         NaN   \n",
       "1859                     NaN                                         NaN   \n",
       "1860                     NaN                                         NaN   \n",
       "\n",
       "      Total Expenditures  Total Pupil FTEs  Average Expenditures per Pupil  \n",
       "0             27229100.8            2051.8                        13270.84  \n",
       "1             27229100.8            2051.8                        13270.84  \n",
       "2             27229100.8            2051.8                        13270.84  \n",
       "3             27229100.8            2051.8                        13270.84  \n",
       "4             27229100.8            2051.8                        13270.84  \n",
       "...                  ...               ...                             ...  \n",
       "1856                 NaN               NaN                             NaN  \n",
       "1857                 NaN               NaN                             NaN  \n",
       "1858                 NaN               NaN                             NaN  \n",
       "1859                 NaN               NaN                             NaN  \n",
       "1860                 NaN               NaN                             NaN  \n",
       "\n",
       "[1861 rows x 48 columns]>"
      ]
     },
     "execution_count": 2,
     "metadata": {},
     "output_type": "execute_result"
    }
   ],
   "source": [
    "#Problem 1_b \n",
    "school= pd.read_csv('MA_Public_Schools_2017.csv')\n",
    "school.head "
   ]
  },
  {
   "cell_type": "code",
   "execution_count": 5,
   "metadata": {
    "scrolled": true
   },
   "outputs": [
    {
     "data": {
      "text/plain": [
       "<bound method NDFrame.head of       School_Code                                        School_Name  \\\n",
       "0           10505                                      Abington High   \n",
       "1           10003                     Beaver Brook Elementary School   \n",
       "2           10002                           Center Elementary School   \n",
       "3           10405                               Frolio Middle School   \n",
       "4           10015                        Woodsdale Elementary School   \n",
       "...           ...                                                ...   \n",
       "1856     35060505     Pioneer Charter School of Science II (PCSS-II)   \n",
       "1857     35100205             Springfield Preparatory Charter School   \n",
       "1858     39020900  TEC Connections Academy Commonwealth Virtual S...   \n",
       "1859     35050405            UP Academy Charter School of Dorchester   \n",
       "1860     35120305           UP Academy Charter School of Springfield   \n",
       "\n",
       "         School_Type          Town State  \\\n",
       "0      Public School      Abington    MA   \n",
       "1      Public School      Abington    MA   \n",
       "2      Public School      Abington    MA   \n",
       "3      Public School      Abington    MA   \n",
       "4      Public School      Abington    MA   \n",
       "...              ...           ...   ...   \n",
       "1856  Charter School        Saugus    MA   \n",
       "1857  Charter School   Springfield    MA   \n",
       "1858   Public School  East Walpole    MA   \n",
       "1859  Charter School        Boston    MA   \n",
       "1860  Charter School        Boston    MA   \n",
       "\n",
       "                                      Grade  \\\n",
       "0                               09,10,11,12   \n",
       "1                               01,02,03,04   \n",
       "2                                      PK,K   \n",
       "3                                     07,08   \n",
       "4                                     05,06   \n",
       "...                                     ...   \n",
       "1856                      07,08,09,10,11,12   \n",
       "1857                                K,01,02   \n",
       "1858  K,01,02,03,04,05,06,07,08,09,10,11,12   \n",
       "1859           PK,K,01,02,03,04,05,06,07,08   \n",
       "1860                               06,07,08   \n",
       "\n",
       "                                          District_Name  District_Code  \\\n",
       "0                                              Abington          10000   \n",
       "1                                              Abington          10000   \n",
       "2                                              Abington          10000   \n",
       "3                                              Abington          10000   \n",
       "4                                              Abington          10000   \n",
       "...                                                 ...            ...   \n",
       "1856  Pioneer Charter School of Science II (PCSS-II)...       35060000   \n",
       "1857  Springfield Preparatory Charter School (District)       35100000   \n",
       "1858  TEC Connections Academy Commonwealth Virtual S...       39020000   \n",
       "1859  UP Academy Charter School of Dorchester (Distr...       35050000   \n",
       "1860  UP Academy Charter School of Springfield (Dist...       35120000   \n",
       "\n",
       "      PK_Enrollment  K_Enrollment  ...  Number_of_Students  Salary_Totals  \\\n",
       "0                 0             0  ...               451.0      9489496.0   \n",
       "1                 0             0  ...               643.0      9489496.0   \n",
       "2                69           134  ...               208.0      9489496.0   \n",
       "3                 0             0  ...               342.0      9489496.0   \n",
       "4                 0             0  ...               334.0      9489496.0   \n",
       "...             ...           ...  ...                 ...            ...   \n",
       "1856              0             0  ...               267.0            NaN   \n",
       "1857              0            54  ...               108.0            NaN   \n",
       "1858              0            20  ...              1014.0            NaN   \n",
       "1859             52            65  ...               655.0            NaN   \n",
       "1860              0             0  ...                 NaN            NaN   \n",
       "\n",
       "      Average_Salary  FTE_Count  In-District_Expenditures  \\\n",
       "0            74662.0      127.0               23365711.18   \n",
       "1            74662.0      127.0               23365711.18   \n",
       "2            74662.0      127.0               23365711.18   \n",
       "3            74662.0      127.0               23365711.18   \n",
       "4            74662.0      127.0               23365711.18   \n",
       "...              ...        ...                       ...   \n",
       "1856             NaN        NaN                       NaN   \n",
       "1857             NaN        NaN                       NaN   \n",
       "1858             NaN        NaN                       NaN   \n",
       "1859             NaN        NaN                       NaN   \n",
       "1860             NaN        NaN                       NaN   \n",
       "\n",
       "      Total_In-district_FTEs  Average_In-District_Expenditures_per_Pupil  \\\n",
       "0                     1939.0                                    12050.39   \n",
       "1                     1939.0                                    12050.39   \n",
       "2                     1939.0                                    12050.39   \n",
       "3                     1939.0                                    12050.39   \n",
       "4                     1939.0                                    12050.39   \n",
       "...                      ...                                         ...   \n",
       "1856                     NaN                                         NaN   \n",
       "1857                     NaN                                         NaN   \n",
       "1858                     NaN                                         NaN   \n",
       "1859                     NaN                                         NaN   \n",
       "1860                     NaN                                         NaN   \n",
       "\n",
       "      Total_Expenditures  Total_Pupil_FTEs  Average_Expenditures_per_Pupil  \n",
       "0             27229100.8            2051.8                        13270.84  \n",
       "1             27229100.8            2051.8                        13270.84  \n",
       "2             27229100.8            2051.8                        13270.84  \n",
       "3             27229100.8            2051.8                        13270.84  \n",
       "4             27229100.8            2051.8                        13270.84  \n",
       "...                  ...               ...                             ...  \n",
       "1856                 NaN               NaN                             NaN  \n",
       "1857                 NaN               NaN                             NaN  \n",
       "1858                 NaN               NaN                             NaN  \n",
       "1859                 NaN               NaN                             NaN  \n",
       "1860                 NaN               NaN                             NaN  \n",
       "\n",
       "[1861 rows x 48 columns]>"
      ]
     },
     "execution_count": 5,
     "metadata": {},
     "output_type": "execute_result"
    }
   ],
   "source": [
    "#Problem 1_c\n",
    "# starter code for 1c -- replace school_data w/ your dataframe name\n",
    "school.columns = school.columns.str.replace(' ', '_') # notice this replaces the 1st argument w/ the 2nd\n",
    "school.head"
   ]
  },
  {
   "cell_type": "code",
   "execution_count": 7,
   "metadata": {},
   "outputs": [
    {
     "data": {
      "text/plain": [
       "Index(['School_Code', 'School_Name', 'School_Type', 'Town', 'State', 'Grade',\n",
       "       'District_Name', 'District_Code', 'PK_Enrollment', 'K_Enrollment',\n",
       "       '1_Enrollment', '2_Enrollment', '3_Enrollment', '4_Enrollment',\n",
       "       '5_Enrollment', '6_Enrollment', '7_Enrollment', '8_Enrollment',\n",
       "       '9_Enrollment', '10_Enrollment', '11_Enrollment', '12_Enrollment',\n",
       "       'SP_Enrollment', '%_First_Language_Not_English',\n",
       "       '%_English_Language_Learner', '%_Students_With_Disabilities',\n",
       "       '%_High_Needs', '%_Economically_Disadvantaged', '%_African_American',\n",
       "       '%_Asian', '%_Hispanic', '%_White', '%_Native_American',\n",
       "       '%_Native_Hawaiian,_Pacific_Islander', '%_Multi-Race,_Non-Hispanic',\n",
       "       '%_Males', '%_Females', 'Average_Class_Size', 'Number_of_Students',\n",
       "       'Salary_Totals', 'Average_Salary', 'FTE_Count',\n",
       "       'In-District_Expenditures', 'Total_In-district_FTEs',\n",
       "       'Average_In-District_Expenditures_per_Pupil', 'Total_Expenditures',\n",
       "       'Total_Pupil_FTEs', 'Average_Expenditures_per_Pupil'],\n",
       "      dtype='object')"
      ]
     },
     "execution_count": 7,
     "metadata": {},
     "output_type": "execute_result"
    }
   ],
   "source": [
    "#check column names\n",
    "school.columns"
   ]
  },
  {
   "cell_type": "code",
   "execution_count": 8,
   "metadata": {},
   "outputs": [
    {
     "data": {
      "text/plain": [
       "<bound method NDFrame.head of       School_Code                                        School_Name  \\\n",
       "0           10505                                      Abington High   \n",
       "1           10003                     Beaver Brook Elementary School   \n",
       "2           10002                           Center Elementary School   \n",
       "3           10405                               Frolio Middle School   \n",
       "4           10015                        Woodsdale Elementary School   \n",
       "...           ...                                                ...   \n",
       "1856     35060505     Pioneer Charter School of Science II (PCSS-II)   \n",
       "1857     35100205             Springfield Preparatory Charter School   \n",
       "1858     39020900  TEC Connections Academy Commonwealth Virtual S...   \n",
       "1859     35050405            UP Academy Charter School of Dorchester   \n",
       "1860     35120305           UP Academy Charter School of Springfield   \n",
       "\n",
       "         School_Type          Town State  \\\n",
       "0      Public School      Abington    MA   \n",
       "1      Public School      Abington    MA   \n",
       "2      Public School      Abington    MA   \n",
       "3      Public School      Abington    MA   \n",
       "4      Public School      Abington    MA   \n",
       "...              ...           ...   ...   \n",
       "1856  Charter School        Saugus    MA   \n",
       "1857  Charter School   Springfield    MA   \n",
       "1858   Public School  East Walpole    MA   \n",
       "1859  Charter School        Boston    MA   \n",
       "1860  Charter School        Boston    MA   \n",
       "\n",
       "                                      Grade  \\\n",
       "0                               09,10,11,12   \n",
       "1                               01,02,03,04   \n",
       "2                                      PK,K   \n",
       "3                                     07,08   \n",
       "4                                     05,06   \n",
       "...                                     ...   \n",
       "1856                      07,08,09,10,11,12   \n",
       "1857                                K,01,02   \n",
       "1858  K,01,02,03,04,05,06,07,08,09,10,11,12   \n",
       "1859           PK,K,01,02,03,04,05,06,07,08   \n",
       "1860                               06,07,08   \n",
       "\n",
       "                                          District_Name  District_Code  \\\n",
       "0                                              Abington          10000   \n",
       "1                                              Abington          10000   \n",
       "2                                              Abington          10000   \n",
       "3                                              Abington          10000   \n",
       "4                                              Abington          10000   \n",
       "...                                                 ...            ...   \n",
       "1856  Pioneer Charter School of Science II (PCSS-II)...       35060000   \n",
       "1857  Springfield Preparatory Charter School (District)       35100000   \n",
       "1858  TEC Connections Academy Commonwealth Virtual S...       39020000   \n",
       "1859  UP Academy Charter School of Dorchester (Distr...       35050000   \n",
       "1860  UP Academy Charter School of Springfield (Dist...       35120000   \n",
       "\n",
       "      PK_Enrollment  K_Enrollment  ...  Number_of_Students  Salary_Totals  \\\n",
       "0                 0             0  ...               451.0      9489496.0   \n",
       "1                 0             0  ...               643.0      9489496.0   \n",
       "2                69           134  ...               208.0      9489496.0   \n",
       "3                 0             0  ...               342.0      9489496.0   \n",
       "4                 0             0  ...               334.0      9489496.0   \n",
       "...             ...           ...  ...                 ...            ...   \n",
       "1856              0             0  ...               267.0            NaN   \n",
       "1857              0            54  ...               108.0            NaN   \n",
       "1858              0            20  ...              1014.0            NaN   \n",
       "1859             52            65  ...               655.0            NaN   \n",
       "1860              0             0  ...                 NaN            NaN   \n",
       "\n",
       "      Average_Salary  FTE_Count  In-District_Expenditures  \\\n",
       "0            74662.0      127.0               23365711.18   \n",
       "1            74662.0      127.0               23365711.18   \n",
       "2            74662.0      127.0               23365711.18   \n",
       "3            74662.0      127.0               23365711.18   \n",
       "4            74662.0      127.0               23365711.18   \n",
       "...              ...        ...                       ...   \n",
       "1856             NaN        NaN                       NaN   \n",
       "1857             NaN        NaN                       NaN   \n",
       "1858             NaN        NaN                       NaN   \n",
       "1859             NaN        NaN                       NaN   \n",
       "1860             NaN        NaN                       NaN   \n",
       "\n",
       "      Total_In-district_FTEs  Average_In-District_Expenditures_per_Pupil  \\\n",
       "0                     1939.0                                    12050.39   \n",
       "1                     1939.0                                    12050.39   \n",
       "2                     1939.0                                    12050.39   \n",
       "3                     1939.0                                    12050.39   \n",
       "4                     1939.0                                    12050.39   \n",
       "...                      ...                                         ...   \n",
       "1856                     NaN                                         NaN   \n",
       "1857                     NaN                                         NaN   \n",
       "1858                     NaN                                         NaN   \n",
       "1859                     NaN                                         NaN   \n",
       "1860                     NaN                                         NaN   \n",
       "\n",
       "      Total_Expenditures  Total_Pupil_FTEs  Average_Expenditures_per_Pupil  \n",
       "0             27229100.8            2051.8                        13270.84  \n",
       "1             27229100.8            2051.8                        13270.84  \n",
       "2             27229100.8            2051.8                        13270.84  \n",
       "3             27229100.8            2051.8                        13270.84  \n",
       "4             27229100.8            2051.8                        13270.84  \n",
       "...                  ...               ...                             ...  \n",
       "1856                 NaN               NaN                             NaN  \n",
       "1857                 NaN               NaN                             NaN  \n",
       "1858                 NaN               NaN                             NaN  \n",
       "1859                 NaN               NaN                             NaN  \n",
       "1860                 NaN               NaN                             NaN  \n",
       "\n",
       "[1861 rows x 48 columns]>"
      ]
     },
     "execution_count": 8,
     "metadata": {},
     "output_type": "execute_result"
    }
   ],
   "source": [
    "#problem 1_d\n",
    "#Adapt the code from 1c to replace \"%\" sign with \"Perc\", because it is also good practice not to start column names with symbols.\n",
    "school.columns = school.columns.str.replace('%', 'Perc') # notice this replaces the 1st argument w/ the 2nd\n",
    "school.head"
   ]
  },
  {
   "cell_type": "code",
   "execution_count": 9,
   "metadata": {},
   "outputs": [
    {
     "data": {
      "text/plain": [
       "Index(['School_Code', 'School_Name', 'School_Type', 'Town', 'State', 'Grade',\n",
       "       'District_Name', 'District_Code', 'PK_Enrollment', 'K_Enrollment',\n",
       "       '1_Enrollment', '2_Enrollment', '3_Enrollment', '4_Enrollment',\n",
       "       '5_Enrollment', '6_Enrollment', '7_Enrollment', '8_Enrollment',\n",
       "       '9_Enrollment', '10_Enrollment', '11_Enrollment', '12_Enrollment',\n",
       "       'SP_Enrollment', 'Perc_First_Language_Not_English',\n",
       "       'Perc_English_Language_Learner', 'Perc_Students_With_Disabilities',\n",
       "       'Perc_High_Needs', 'Perc_Economically_Disadvantaged',\n",
       "       'Perc_African_American', 'Perc_Asian', 'Perc_Hispanic', 'Perc_White',\n",
       "       'Perc_Native_American', 'Perc_Native_Hawaiian,_Pacific_Islander',\n",
       "       'Perc_Multi-Race,_Non-Hispanic', 'Perc_Males', 'Perc_Females',\n",
       "       'Average_Class_Size', 'Number_of_Students', 'Salary_Totals',\n",
       "       'Average_Salary', 'FTE_Count', 'In-District_Expenditures',\n",
       "       'Total_In-district_FTEs', 'Average_In-District_Expenditures_per_Pupil',\n",
       "       'Total_Expenditures', 'Total_Pupil_FTEs',\n",
       "       'Average_Expenditures_per_Pupil'],\n",
       "      dtype='object')"
      ]
     },
     "execution_count": 9,
     "metadata": {},
     "output_type": "execute_result"
    }
   ],
   "source": [
    "school.columns"
   ]
  },
  {
   "cell_type": "code",
   "execution_count": null,
   "metadata": {},
   "outputs": [],
   "source": [
    "#problem 1_e\n",
    "#Find the descriptives for numeric columns.\n",
    "\n"
   ]
  },
  {
   "cell_type": "markdown",
   "metadata": {},
   "source": [
    "#### Problem 2\n",
    "\n",
    "a) Remove the District Code column.\n",
    "\n",
    "b) Create a new column called \"TOTAL_Enrollment\" that is the sum of all columns that end in \"Enrollment\".\n",
    "\n",
    "c) Compute the mean of \"TOTAL_Enrollment\" for each District. (Hint: groupby)\n",
    "\n",
    "d) Commit your changes and push to GitHub!"
   ]
  },
  {
   "cell_type": "code",
   "execution_count": null,
   "metadata": {},
   "outputs": [],
   "source": [
    "# Problem 2 code here (can split into multiple code chunks if you want)"
   ]
  },
  {
   "cell_type": "markdown",
   "metadata": {},
   "source": [
    "#### Problem 3\n",
    "\n",
    "a) Visualize each bivariate relationship among Average_Class_Size, Average_Salary, Perc_Economically_Disadvantaged, and Perc_English_Language_Learner.  Use the Seaborn function **pairplot**.  The argument to `pairplot` should be `school_data[['Average_Class_Size', 'Average_Salary', 'Perc_Economically_Disadvantaged', 'Perc_English_Language_Learner']]`, which will just pull those columns out from the full data frame.\n",
    "\n",
    "b) Describe what you see from the plots.\n",
    "\n",
    "c) Based on your observations from 3b, and as a completely post-hoc, exploratory analysis, choose one of the 4 measures from 3a to be an outcome variable, and a second measure to be a predictor variable.  Then run a linear regression, print the *summary*, and write a sentence interpreting the results (does not need to be detailed, just practice retrieving the relevant info on predictor significance, etc.)\n",
    "\n",
    "d) Commit your changes and push to GitHub!"
   ]
  },
  {
   "cell_type": "code",
   "execution_count": null,
   "metadata": {},
   "outputs": [],
   "source": [
    "# Problem 3 code here (can split into multiple code chunks if you want)"
   ]
  },
  {
   "cell_type": "markdown",
   "metadata": {},
   "source": [
    "#### Problem 4\n",
    "\n",
    "a) Create a new linear regression model that takes the model from 3c and adds both of the remaining variables from 3a as additional predictor variables.  To do this, the formula interface would look like `\"outcome_name ~ predictor1_name + predictor2_name + predictor3_name\"`\n",
    "\n",
    "b) Print the summary from 4a, and write a short interpretation of the results, especially comparing it to Problem 3c.  \n",
    "\n",
    "c) Add School_Type as another predictor to your model.  Interpret the new predictor in your output.  How is it different from the other predictors?\n",
    "\n",
    "d) Commit your changes and push to GitHub!"
   ]
  },
  {
   "cell_type": "code",
   "execution_count": null,
   "metadata": {},
   "outputs": [],
   "source": [
    "# Problem 4 code here (can split into multiple code chunks if you want)"
   ]
  },
  {
   "cell_type": "markdown",
   "metadata": {},
   "source": [
    "#### Problem 5\n",
    "\n",
    "a) Adapt your **pairplot** code from 3a to add the following argument:\n",
    "`hue=\"School_Type\"`\n",
    "\n",
    "b) Describe what changes in the pairplots, and what it represents.\n",
    "\n",
    "c) Commit your changes and push to GitHub!"
   ]
  },
  {
   "cell_type": "code",
   "execution_count": null,
   "metadata": {},
   "outputs": [],
   "source": [
    "# Problem 5 code here (can split into multiple code chunks if you want)"
   ]
  },
  {
   "cell_type": "markdown",
   "metadata": {},
   "source": [
    "#### Problem 6\n",
    "\n",
    "a) Save this Jupyter notebook as an HTML file (File > Download As > HTML) into your local repository (this folder). By default, Jupyter may put your HTML file in your default Downloads folder (wherever that is) -- if that happens, just manually move the file into this repo folder.\n",
    "\n",
    "b) Stage, commit, and push all changes to your GitHub repository.\n",
    "\n",
    "c) Submit a link to your repository as your submission for the assignment on Canvas. Remember the note from Problem 0: you can keep your repo private and add me as a collaborator."
   ]
  }
 ],
 "metadata": {
  "kernelspec": {
   "display_name": "Python 3",
   "language": "python",
   "name": "python3"
  },
  "language_info": {
   "codemirror_mode": {
    "name": "ipython",
    "version": 3
   },
   "file_extension": ".py",
   "mimetype": "text/x-python",
   "name": "python",
   "nbconvert_exporter": "python",
   "pygments_lexer": "ipython3",
   "version": "3.8.3"
  }
 },
 "nbformat": 4,
 "nbformat_minor": 2
}
